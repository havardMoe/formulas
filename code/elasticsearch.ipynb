{
 "cells": [
  {
   "cell_type": "code",
   "execution_count": 1,
   "metadata": {},
   "outputs": [],
   "source": [
    "import abc\n",
    "import time\n",
    "from typing import Any, Dict, List\n",
    "import math\n",
    "from elasticsearch import Elasticsearch\n",
    "from collections import Counter\n",
    "\n",
    "\n",
    "DOCS = {1: {\"body\": \"t1 t2 t3 t4 t5 t6\"},\n",
    "        2: {\"body\": \"t3 t4 t3 t1 t8 t2 t2 t7\"},\n",
    "        3: {\"body\": \"t2 t9 t4 t1 t8 t2 t3 t1 t4\"}}\n",
    "\n",
    "q = ['t4 t3']\n",
    "\n",
    "INDEX_NAME = \"toy_index_1\"\n",
    "\n",
    "INDEX_SETTINGS = {\n",
    "    \"properties\": {\n",
    "        \"title\": {\n",
    "            \"type\": \"text\",\n",
    "            \"term_vector\": \"with_positions\",\n",
    "            \"analyzer\": \"english\",\n",
    "        },\n",
    "        \"body\": {\n",
    "            \"type\": \"text\",\n",
    "            \"term_vector\": \"with_positions\",\n",
    "            \"analyzer\": \"english\",\n",
    "        },\n",
    "        \"anchors\": {\n",
    "            \"type\": \"text\",\n",
    "            \"term_vector\": \"with_positions\",\n",
    "            \"analyzer\": \"english\",\n",
    "        },\n",
    "    }\n",
    "}\n",
    "\n",
    "_DEFAULT_FIELD = \"body\""
   ]
  },
  {
   "cell_type": "code",
   "execution_count": 2,
   "metadata": {},
   "outputs": [
    {
     "name": "stderr",
     "output_type": "stream",
     "text": [
      "/Users/moe/opt/anaconda3/envs/if37/lib/python3.7/site-packages/elasticsearch/connection/base.py:200: ElasticsearchWarning: Elasticsearch built-in security features are not enabled. Without authentication, your cluster could be accessible to anyone. See https://www.elastic.co/guide/en/elasticsearch/reference/7.17/security-minimal-setup.html to enable security.\n",
      "  warnings.warn(message, category=ElasticsearchWarning)\n"
     ]
    }
   ],
   "source": [
    "es = Elasticsearch()\n",
    "if es.indices.exists(index=INDEX_NAME):\n",
    "    es.indices.delete(index=INDEX_NAME)\n",
    "es.indices.create(index=INDEX_NAME, mappings=INDEX_SETTINGS)\n",
    "for (doc_id, doc) in DOCS.items():\n",
    "    es.index(document=doc, id=doc_id, index=INDEX_NAME)\n",
    "time.sleep(10)"
   ]
  }
 ],
 "metadata": {
  "kernelspec": {
   "display_name": "Python 3.7.13 ('if37')",
   "language": "python",
   "name": "python3"
  },
  "language_info": {
   "codemirror_mode": {
    "name": "ipython",
    "version": 3
   },
   "file_extension": ".py",
   "mimetype": "text/x-python",
   "name": "python",
   "nbconvert_exporter": "python",
   "pygments_lexer": "ipython3",
   "version": "3.7.13"
  },
  "orig_nbformat": 4,
  "vscode": {
   "interpreter": {
    "hash": "b41dd4222a953aa5dc10f1dd2ed73e132e0bf9e982f9560d60de4472d106d4b3"
   }
  }
 },
 "nbformat": 4,
 "nbformat_minor": 2
}
