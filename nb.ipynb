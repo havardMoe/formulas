{
 "cells": [],
 "metadata": {
  "kernelspec": {
   "display_name": "Python 3.7.13 ('if37')",
   "language": "python",
   "name": "python3"
  },
  "language_info": {
   "codemirror_mode": {
    "name": "ipython",
    "version": 3
   },
   "file_extension": ".py",
   "mimetype": "text/x-python",
   "name": "python",
   "nbconvert_exporter": "python",
   "pygments_lexer": "ipython3",
   "version": "3.7.13"
  },
  "orig_nbformat": 4,
  "vscode": {
   "interpreter": {
    "hash": "80dac34efe7ac061679816ead8bbb7dda9b26c4c385cb02ee51b5824af556652"
   }
  }
 },
 "nbformat": 4,
 "nbformat_minor": 2
}
