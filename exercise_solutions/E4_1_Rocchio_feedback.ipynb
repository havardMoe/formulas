{
  "cells": [
    {
      "cell_type": "markdown",
      "metadata": {
        "id": "VAvhvrho5G0i"
      },
      "source": [
        "# Rocchio feedback\n",
        "\n",
        "Compute an expanded query model using Rocchio feedback, given a set of positive and negative documents as expicit feedback."
      ]
    },
    {
      "cell_type": "code",
      "source": [
        "pip install ipytest"
      ],
      "metadata": {
        "id": "DMz2Om5b5KJP"
      },
      "execution_count": null,
      "outputs": []
    },
    {
      "cell_type": "code",
      "execution_count": null,
      "metadata": {
        "id": "2oPPH8335G0l"
      },
      "outputs": [],
      "source": [
        "import ipytest\n",
        "import pytest\n",
        "from typing import List\n",
        "\n",
        "ipytest.autoconfig()"
      ]
    },
    {
      "cell_type": "markdown",
      "metadata": {
        "id": "jb9882cW5G0m"
      },
      "source": [
        "Vocabulary"
      ]
    },
    {
      "cell_type": "code",
      "execution_count": null,
      "metadata": {
        "id": "Hcv8xnWj5G0n"
      },
      "outputs": [],
      "source": [
        "VOCAB = ['news', 'about', 'presidental', 'campaign', 'food', 'text']"
      ]
    },
    {
      "cell_type": "markdown",
      "metadata": {
        "id": "C3ZJ2XBG5G0n"
      },
      "source": [
        "Query vector"
      ]
    },
    {
      "cell_type": "code",
      "execution_count": null,
      "metadata": {
        "id": "O-jdXQ8_5G0n"
      },
      "outputs": [],
      "source": [
        "Q = [1, 1, 1, 1, 0, 0]"
      ]
    },
    {
      "cell_type": "markdown",
      "metadata": {
        "id": "FUDanX_V5G0n"
      },
      "source": [
        "Document-term matrix (each row corresponds to a document vector)"
      ]
    },
    {
      "cell_type": "code",
      "execution_count": null,
      "metadata": {
        "id": "3Baj_rPJ5G0o"
      },
      "outputs": [],
      "source": [
        "DT_MATRIX = [\n",
        "    [1.5, 0.1, 0, 0, 0, 0],\n",
        "    [1.5, 0.1, 0, 2, 2, 0],\n",
        "    [1.5, 0, 3, 2, 0, 0],\n",
        "    [1.5, 0, 4, 2, 0, 0], \n",
        "    [1.5, 0, 0, 6, 2, 0]\n",
        "]"
      ]
    },
    {
      "cell_type": "markdown",
      "metadata": {
        "id": "AlSxZUU45G0o"
      },
      "source": [
        "Feedback: IDs (indices) of positive and negative documents"
      ]
    },
    {
      "cell_type": "code",
      "execution_count": null,
      "metadata": {
        "id": "P7YQRW7g5G0p"
      },
      "outputs": [],
      "source": [
        "D_POS = [2, 3]\n",
        "D_NEG = [0, 1, 4]"
      ]
    },
    {
      "cell_type": "markdown",
      "metadata": {
        "id": "3TbcRl4s5G0p"
      },
      "source": [
        "## Rocchio feedback\n",
        "\n",
        "Compute the updated query according to:\n",
        "$$\\vec{q}_m = \\alpha \\vec{q} + \\frac{\\beta}{|D^+|}\\sum_{d \\in D^+}\\vec{d} - \\frac{\\gamma}{|D^-|}\\sum_{d \\in D^-}\\vec{d}$$\n",
        "\n",
        "where\n",
        "  - $\\vec{q}$ is the original query vector\n",
        "  - $\\vec{d}$ is the term vector of document $d$\n",
        "  - $D^+, D^-$ are set of relevant and non-relevant feedback documents\n",
        "  - $\\alpha, \\beta, \\gamma$ are parameters that control the movement of the original vector"
      ]
    },
    {
      "cell_type": "code",
      "execution_count": null,
      "metadata": {
        "id": "S2QDBH6g5G0p"
      },
      "outputs": [],
      "source": [
        "def get_updated_query(\n",
        "    q: List[int], d_pos: List[int], d_neg: List[int], \n",
        "    alpha: float, beta: float, gamma: float\n",
        ") -> List[int]:\n",
        "    \"\"\"Computes an updated query model using Rocchio feedback.\n",
        "    \n",
        "    Args:\n",
        "        q: Query vector.\n",
        "        d_pos: List of positive feedback document IDs.\n",
        "        d_neg: List of positive feedback document IDs.\n",
        "        alpha: Feedback parameter alpha.\n",
        "        beta: Feedback parameter beta.\n",
        "        gamma: Feedback parameter gamma.\n",
        "    \n",
        "    Returns:\n",
        "        Updated query vector.\n",
        "    \"\"\"\n",
        "    q_m = [alpha * t for t in q]\n",
        "    \n",
        "    # Positive feedback docs\n",
        "    for idx in d_pos:\n",
        "        for t in range(len(VOCAB)):\n",
        "            q_m[t] += beta / len(d_pos) * DT_MATRIX[idx][t]\n",
        "        \n",
        "    # Negative feedback docs\n",
        "    for idx in d_neg:\n",
        "        for t in range(len(VOCAB)):\n",
        "            q_m[t] -= gamma / len(d_neg) * DT_MATRIX[idx][t]\n",
        "        \n",
        "    return q_m"
      ]
    },
    {
      "cell_type": "markdown",
      "metadata": {
        "id": "I7Rq8j8D5G0q"
      },
      "source": [
        "Tests."
      ]
    },
    {
      "cell_type": "code",
      "execution_count": null,
      "metadata": {
        "id": "8nNr9t2E5G0q"
      },
      "outputs": [],
      "source": [
        "%%run_pytest[clean]\n",
        "\n",
        "def test_no_expansion():\n",
        "    q_m = get_updated_query(Q, D_POS, D_NEG, 1, 0, 0)\n",
        "    assert q_m == Q\n",
        "\n",
        "def test_expansion():\n",
        "    q_m = get_updated_query(Q, D_POS, D_NEG, 0.6, 0.2, 0.2)\n",
        "    assert q_m == pytest.approx([0.600, 0.587, 1.300, 0.467, -0.267, 0], rel=1e-2)"
      ]
    }
  ],
  "metadata": {
    "kernelspec": {
      "display_name": "Python 3",
      "language": "python",
      "name": "python3"
    },
    "language_info": {
      "codemirror_mode": {
        "name": "ipython",
        "version": 3
      },
      "file_extension": ".py",
      "mimetype": "text/x-python",
      "name": "python",
      "nbconvert_exporter": "python",
      "pygments_lexer": "ipython3",
      "version": "3.7.4"
    },
    "colab": {
      "provenance": []
    }
  },
  "nbformat": 4,
  "nbformat_minor": 0
}