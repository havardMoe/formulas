{
  "cells": [
    {
      "cell_type": "markdown",
      "metadata": {
        "id": "_AslXmX2qc6Z"
      },
      "source": [
        "# Elasticsearch\n",
        "\n",
        "Run this example to index and search a toy-sized collection of documents using Elasticsearch.  There is nothing for you to add/complete here, it's just to make sure you're all set for the next exercise.\n",
        "\n",
        "Before starting, make sure that you've \n",
        "\n",
        "1. Downloaded and started Elasticsearch\n",
        "1. Installed the `elasticsearch` Python package\n",
        "  - It's part of the standard Anaconda distribution; otherwise, you can run `conda install elasticsearch`."
      ]
    },
    {
      "cell_type": "code",
      "source": [
        "!pip install ipytest\n",
        "!pip install elasticsearch==7.9.0"
      ],
      "metadata": {
        "id": "HyB5tQ86qzam"
      },
      "execution_count": null,
      "outputs": []
    },
    {
      "cell_type": "code",
      "source": [
        "%%bash\n",
        "\n",
        "wget -q https://artifacts.elastic.co/downloads/elasticsearch/elasticsearch-oss-7.9.2-linux-x86_64.tar.gz\n",
        "wget -q https://artifacts.elastic.co/downloads/elasticsearch/elasticsearch-oss-7.9.2-linux-x86_64.tar.gz.sha512\n",
        "tar -xzf elasticsearch-oss-7.9.2-linux-x86_64.tar.gz\n",
        "sudo chown -R daemon:daemon elasticsearch-7.9.2/\n",
        "shasum -a 512 -c elasticsearch-oss-7.9.2-linux-x86_64.tar.gz.sha512 "
      ],
      "metadata": {
        "id": "QC1FkvXwqzzF"
      },
      "execution_count": null,
      "outputs": []
    },
    {
      "cell_type": "code",
      "source": [
        "%%bash --bg\n",
        "\n",
        "sudo -H -u daemon elasticsearch-7.9.2/bin/elasticsearch"
      ],
      "metadata": {
        "id": "lpCjtqNiq1wF"
      },
      "execution_count": null,
      "outputs": []
    },
    {
      "cell_type": "code",
      "source": [
        "# Sleep for few seconds to let the instance start.\n",
        "import time\n",
        "time.sleep(20)"
      ],
      "metadata": {
        "id": "HeGThFJ8q3Cu"
      },
      "execution_count": null,
      "outputs": []
    },
    {
      "cell_type": "code",
      "execution_count": null,
      "metadata": {
        "id": "TS00zc42qc6b"
      },
      "outputs": [],
      "source": [
        "from elasticsearch import Elasticsearch\n",
        "from pprint import pprint"
      ]
    },
    {
      "cell_type": "code",
      "execution_count": null,
      "metadata": {
        "id": "qRd49L3wqc6c"
      },
      "outputs": [],
      "source": [
        "INDEX_NAME = \"toy_index\"  # the name of the index\n",
        "\n",
        "INDEX_SETTINGS = {  # single shard with a single replica\n",
        "    \"settings\" : {\n",
        "        \"index\" : {\n",
        "            \"number_of_shards\" : 1,\n",
        "            \"number_of_replicas\" : 1\n",
        "        }\n",
        "    }\n",
        "}"
      ]
    },
    {
      "cell_type": "markdown",
      "metadata": {
        "id": "cNpYM-qbqc6c"
      },
      "source": [
        "The collection of documents is given here as a Python dictionary. Each document has two fields: title and content."
      ]
    },
    {
      "cell_type": "code",
      "execution_count": null,
      "metadata": {
        "id": "cPoVgDjFqc6c"
      },
      "outputs": [],
      "source": [
        "DOCS = {\n",
        "    1: {\"title\": \"Rap God\",\n",
        "        \"content\": \"gonna, gonna, Look, I was gonna go easy on you and not to hurt your feelings\"\n",
        "        },\n",
        "    2: {\"title\": \"Lose Yourself\",\n",
        "        \"content\": \"Yo, if you could just, for one minute Or one split second in time, forget everything Everything that bothers you, or your problems Everything, and follow me\"\n",
        "        },\n",
        "    3: {\"title\": \"Love The Way You Lie\",\n",
        "        \"content\": \"Just gonna stand there and watch me burn But that's alright, because I like the way it hurts\"\n",
        "        },\n",
        "    4: {\"title\": \"The Monster\",\n",
        "        \"content\": [\"gonna gonna I'm friends with the monster\", \"That's under my bed Get along with the voices inside of my head\"]\n",
        "        },\n",
        "    5: {\"title\": \"Beautiful\",\n",
        "        \"content\": \"Lately I've been hard to reach I've been too long on my own Everybody has a private world Where they can be alone\"\n",
        "        }\n",
        "}  # Eminem rulez ;)"
      ]
    },
    {
      "cell_type": "markdown",
      "metadata": {
        "id": "LuGYRmCIqc6d"
      },
      "source": [
        "### Create Elasticsearch object"
      ]
    },
    {
      "cell_type": "code",
      "execution_count": null,
      "metadata": {
        "id": "omodjTL8qc6d"
      },
      "outputs": [],
      "source": [
        "es = Elasticsearch()"
      ]
    },
    {
      "cell_type": "markdown",
      "metadata": {
        "id": "oCa4eLctqc6d"
      },
      "source": [
        "Check if service is running"
      ]
    },
    {
      "cell_type": "code",
      "execution_count": null,
      "metadata": {
        "id": "wpoorIB-qc6e"
      },
      "outputs": [],
      "source": [
        "es.info()"
      ]
    },
    {
      "cell_type": "markdown",
      "metadata": {
        "id": "2iko_4n4qc6f"
      },
      "source": [
        "### Create index"
      ]
    },
    {
      "cell_type": "markdown",
      "metadata": {
        "id": "0Fe58DYxqc6f"
      },
      "source": [
        "If the index exists, we delete it (normally, you don't want to do this)."
      ]
    },
    {
      "cell_type": "code",
      "execution_count": null,
      "metadata": {
        "id": "D5Sh_6yjqc6f"
      },
      "outputs": [],
      "source": [
        "if es.indices.exists(INDEX_NAME):\n",
        "    es.indices.delete(index=INDEX_NAME)"
      ]
    },
    {
      "cell_type": "markdown",
      "metadata": {
        "id": "Fjj0-IWCqc6f"
      },
      "source": [
        "We set the number of shards and replicas to be used for each index when it's created. (We use a single shard instead of the default 5.)"
      ]
    },
    {
      "cell_type": "code",
      "execution_count": null,
      "metadata": {
        "id": "OQnoea6aqc6f"
      },
      "outputs": [],
      "source": [
        "es.indices.create(index=INDEX_NAME, body=INDEX_SETTINGS)"
      ]
    },
    {
      "cell_type": "markdown",
      "metadata": {
        "id": "4BDBqSE2qc6g"
      },
      "source": [
        "### Add documents to the index"
      ]
    },
    {
      "cell_type": "code",
      "execution_count": null,
      "metadata": {
        "id": "gsQnNiDIqc6g"
      },
      "outputs": [],
      "source": [
        "for doc_id, doc in DOCS.items():\n",
        "    es.index(index=INDEX_NAME, doc_type=\"_doc\", id=doc_id, body=doc)"
      ]
    },
    {
      "cell_type": "markdown",
      "metadata": {
        "id": "sblW5KvLqc6g"
      },
      "source": [
        "### Check what has been indexed"
      ]
    },
    {
      "cell_type": "markdown",
      "metadata": {
        "id": "xF9F25a8qc6g"
      },
      "source": [
        "Get the contents of doc #3"
      ]
    },
    {
      "cell_type": "code",
      "execution_count": null,
      "metadata": {
        "id": "JUL5jgx1qc6g"
      },
      "outputs": [],
      "source": [
        "doc = es.get(index=INDEX_NAME, id=3)"
      ]
    },
    {
      "cell_type": "code",
      "execution_count": null,
      "metadata": {
        "id": "9oLdfJkAqc6g"
      },
      "outputs": [],
      "source": [
        "pprint(doc)"
      ]
    },
    {
      "cell_type": "markdown",
      "metadata": {
        "id": "7v6KRp1cqc6h"
      },
      "source": [
        "Get the term vector for doc #3.\n",
        "\n",
        "`termvectors` returns information and statistics on terms in the fields of a particular document."
      ]
    },
    {
      "cell_type": "code",
      "execution_count": null,
      "metadata": {
        "id": "U1U_YWfoqc6h"
      },
      "outputs": [],
      "source": [
        "tv = es.termvectors(index=INDEX_NAME, doc_type=\"_doc\", id=3, fields=\"title,content\", term_statistics=True)"
      ]
    },
    {
      "cell_type": "code",
      "execution_count": null,
      "metadata": {
        "id": "EqhyQ7WYqc6h"
      },
      "outputs": [],
      "source": [
        "pprint(tv)"
      ]
    },
    {
      "cell_type": "markdown",
      "metadata": {
        "id": "7gxq-W-gqc6h"
      },
      "source": [
        "Interpretation of the returned values\n",
        "  * `[{field}]['field_statistics']`: \n",
        "    - `doc_count`: how many documents contain this field\n",
        "    - `sum_ttf`: the sum of all term frequencies in this field\n",
        "  * `[{field}][{term}]`:\n",
        "    - `doc_freq`: how many document contain this term\n",
        "    - `term_freq`: frequency (number of occurrences) of the term in this document field\n",
        "    - `ttf`: total term frequency, i.e., number of occurrences of the term in this field in all documents"
      ]
    },
    {
      "cell_type": "markdown",
      "metadata": {
        "id": "WtCjTSv3qc6h"
      },
      "source": [
        "Note that Elasticsearch splits indices into multiple shards (by default: 5). This means that when you ask for term statistics, these are computed by shard. In case of a large collection, this is typically not an issue as the statistics become \"normalized\" across the different shards and the differences are negligible. For smaller collections that fit on a single disk, you may set the number of shards to 1 to avoid this issue alltogether (like we've done in this example in `INDEX_SETTINGS`).\n",
        "\n",
        "Check the following documents for further information:\n",
        "  - https://www.elastic.co/guide/en/elasticsearch/reference/6.2/_basic_concepts.html\n",
        "  - https://www.elastic.co/blog/practical-bm25-part-1-how-shards-affect-relevance-scoring-in-elasticsearch"
      ]
    },
    {
      "cell_type": "markdown",
      "metadata": {
        "id": "O-YQ10U_qc6h"
      },
      "source": [
        "### Search"
      ]
    },
    {
      "cell_type": "code",
      "execution_count": null,
      "metadata": {
        "id": "FFyYnsjZqc6h"
      },
      "outputs": [],
      "source": [
        "query = \"rap monster\"\n",
        "res = es.search(index=INDEX_NAME, q=query, _source=False, size=10)"
      ]
    },
    {
      "cell_type": "markdown",
      "metadata": {
        "id": "dMpbU2LBqc6h"
      },
      "source": [
        "Print full response (`hits` holds the results)"
      ]
    },
    {
      "cell_type": "code",
      "execution_count": null,
      "metadata": {
        "id": "q5EKPfzlqc6i"
      },
      "outputs": [],
      "source": [
        "pprint(res)"
      ]
    },
    {
      "cell_type": "markdown",
      "metadata": {
        "id": "ABmqU5oBqc6i"
      },
      "source": [
        "Print only search results (ranked list of docs)"
      ]
    },
    {
      "cell_type": "code",
      "execution_count": null,
      "metadata": {
        "id": "uZsAHC5Uqc6i"
      },
      "outputs": [],
      "source": [
        "for hit in res[\"hits\"][\"hits\"]:\n",
        "    print(\"Doc ID: %3r  Score: %5.2f\" % (hit[\"_id\"], hit[\"_score\"]))"
      ]
    },
    {
      "cell_type": "markdown",
      "metadata": {
        "id": "5VbXr_OVqc6i"
      },
      "source": [
        "## Elasticsearch query language\n",
        "\n",
        "Elasticsearch supports structured queries based on its own [DSL query language](https://www.elastic.co/guide/en/elasticsearch/reference/current/query-dsl.html).\n",
        "\n",
        "Mind that certain queries expect analyzed query terms (e.g., [term queries](https://www.elastic.co/guide/en/elasticsearch/reference/current/query-dsl-term-query.html)), while other query types (e.g., [match](https://www.elastic.co/guide/en/elasticsearch/reference/current/query-dsl-match-query.html)) perform analysis as part of the processing. Make sure you check the respective documentation carefully."
      ]
    },
    {
      "cell_type": "markdown",
      "metadata": {
        "id": "2WBz7o8_qc6i"
      },
      "source": [
        "### Building a second toy index with position information"
      ]
    },
    {
      "cell_type": "code",
      "execution_count": null,
      "metadata": {
        "id": "9FS6owHWqc6i"
      },
      "outputs": [],
      "source": [
        "INDEX_NAME2 = \"toy_index2\"  \n",
        "\n",
        "INDEX_SETTINGS2 = {\n",
        "    \"settings\" : {\n",
        "        \"index\" : {\n",
        "            \"number_of_shards\" : 1,\n",
        "            \"number_of_replicas\" : 1\n",
        "        },\n",
        "        \"analysis\": {\n",
        "            \"analyzer\": {\n",
        "                \"my_english_analyzer\": {\n",
        "                    \"type\": \"custom\",\n",
        "                    \"tokenizer\": \"standard\",\n",
        "                    \"stopwords\": \"_english_\",\n",
        "                    \"filter\": [\n",
        "                        \"lowercase\",\n",
        "                        \"english_stop\",\n",
        "                        \"filter_english_minimal\"\n",
        "                    ]                \n",
        "                }\n",
        "            },\n",
        "            \"filter\" : {\n",
        "                \"filter_english_minimal\" : {\n",
        "                    \"type\": \"stemmer\",\n",
        "                    \"name\": \"minimal_english\"\n",
        "                },\n",
        "                \"english_stop\": {\n",
        "                    \"type\": \"stop\",\n",
        "                    \"stopwords\": \"_english_\"\n",
        "                }\n",
        "            },\n",
        "        }\n",
        "    },\n",
        "    \"mappings\": {\n",
        "        \"properties\": {\n",
        "            \"title\": {\n",
        "                \"type\": \"text\",\n",
        "                \"term_vector\": \"with_positions\",\n",
        "                \"analyzer\": \"my_english_analyzer\"\n",
        "            },\n",
        "            \"content\": {\n",
        "                \"type\": \"text\",\n",
        "                \"term_vector\": \"with_positions\",\n",
        "                \"analyzer\": \"my_english_analyzer\"\n",
        "            }\n",
        "        }\n",
        "    }\n",
        "}"
      ]
    },
    {
      "cell_type": "code",
      "execution_count": null,
      "metadata": {
        "id": "8tIXQFsTqc6i"
      },
      "outputs": [],
      "source": [
        "if es.indices.exists(INDEX_NAME2):\n",
        "    es.indices.delete(index=INDEX_NAME2)\n",
        "    \n",
        "es.indices.create(index=INDEX_NAME2, body=INDEX_SETTINGS2)"
      ]
    },
    {
      "cell_type": "code",
      "execution_count": null,
      "metadata": {
        "id": "8UriGNv4qc6i"
      },
      "outputs": [],
      "source": [
        "for doc_id, doc in DOCS.items():\n",
        "    es.index(index=INDEX_NAME2, doc_type=\"_doc\", id=doc_id, body=doc)"
      ]
    },
    {
      "cell_type": "markdown",
      "metadata": {
        "id": "U1Gychahqc6j"
      },
      "source": [
        "Check that term position information has been added to the index"
      ]
    },
    {
      "cell_type": "code",
      "execution_count": null,
      "metadata": {
        "id": "czHnWgNeqc6j"
      },
      "outputs": [],
      "source": [
        "tv = es.termvectors(index=INDEX_NAME2, doc_type=\"_doc\", id=3, fields=\"title\", term_statistics=True)\n",
        "\n",
        "pprint(tv)"
      ]
    },
    {
      "cell_type": "markdown",
      "metadata": {
        "id": "jJU29xkFqc6j"
      },
      "source": [
        "### Examples"
      ]
    },
    {
      "cell_type": "markdown",
      "metadata": {
        "id": "jd46oNFwqc6j"
      },
      "source": [
        "Searching for documents that must match a [boolean combination](https://www.elastic.co/guide/en/elasticsearch/reference/current/query-dsl-bool-query.html) of multiple terms (in any order).  "
      ]
    },
    {
      "cell_type": "code",
      "execution_count": null,
      "metadata": {
        "id": "Dl5nBmbMqc6j"
      },
      "outputs": [],
      "source": [
        "query = {\n",
        "    \"bool\": {\n",
        "        \"must\": [\n",
        "            {\"match\": {\"content\": \"gonna\"}}, \n",
        "            {\"match\": {\"content\": \"monster\"}}\n",
        "        ]\n",
        "    }\n",
        "}\n",
        "\n",
        "res = es.search(index=INDEX_NAME2, body={\"query\": query})\n",
        "\n",
        "pprint(res)"
      ]
    },
    {
      "cell_type": "markdown",
      "metadata": {
        "id": "d_VDo-N9qc6j"
      },
      "source": [
        "Searching for documents that match an [extract phrase](https://www.elastic.co/guide/en/elasticsearch/reference/current/query-dsl-match-query-phrase.html) (terms in that exact order)."
      ]
    },
    {
      "cell_type": "code",
      "execution_count": null,
      "metadata": {
        "id": "qq5-bo7Sqc6j"
      },
      "outputs": [],
      "source": [
        "query = {\"match_phrase\": {\"content\": \"split second\"}}\n",
        "\n",
        "res = es.search(index=INDEX_NAME2, body={'query': query})\n",
        "\n",
        "pprint(res)"
      ]
    }
  ],
  "metadata": {
    "kernelspec": {
      "display_name": "Python 3",
      "language": "python",
      "name": "python3"
    },
    "language_info": {
      "codemirror_mode": {
        "name": "ipython",
        "version": 3
      },
      "file_extension": ".py",
      "mimetype": "text/x-python",
      "name": "python",
      "nbconvert_exporter": "python",
      "pygments_lexer": "ipython3",
      "version": "3.7.4"
    },
    "colab": {
      "provenance": []
    }
  },
  "nbformat": 4,
  "nbformat_minor": 0
}